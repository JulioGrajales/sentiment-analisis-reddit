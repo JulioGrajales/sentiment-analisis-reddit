{
 "cells": [
  {
   "cell_type": "code",
   "execution_count": 1,
   "id": "featured-mercy",
   "metadata": {},
   "outputs": [],
   "source": [
    "import pandas as pd\n",
    "import numpy as np\n",
    "import nltk\n",
    "from nltk.sentiment.vader import SentimentIntensityAnalyzer as SIA\n",
    "import seaborn as sns\n",
    "from IPython import display\n",
    "from pprint import pprint\n",
    "import praw\n",
    "import matplotlib.pyplot as plt"
   ]
  },
  {
   "cell_type": "code",
   "execution_count": 2,
   "id": "liquid-physiology",
   "metadata": {},
   "outputs": [
    {
     "name": "stderr",
     "output_type": "stream",
     "text": [
      "[nltk_data] Downloading package vader_lexicon to\n",
      "[nltk_data]     C:\\Users\\Julio\\AppData\\Roaming\\nltk_data...\n",
      "[nltk_data]   Package vader_lexicon is already up-to-date!\n",
      "[nltk_data] Downloading package stopwords to\n",
      "[nltk_data]     C:\\Users\\Julio\\AppData\\Roaming\\nltk_data...\n",
      "[nltk_data]   Package stopwords is already up-to-date!\n"
     ]
    },
    {
     "data": {
      "text/plain": [
       "True"
      ]
     },
     "execution_count": 2,
     "metadata": {},
     "output_type": "execute_result"
    }
   ],
   "source": [
    "nltk.download('vader_lexicon')\n",
    "nltk.download('stopwords')"
   ]
  },
  {
   "cell_type": "code",
   "execution_count": 3,
   "id": "collective-dancing",
   "metadata": {},
   "outputs": [],
   "source": [
    "sns.set(style='darkgrid',context='talk',palette='Dark2')"
   ]
  },
  {
   "cell_type": "code",
   "execution_count": 4,
   "id": "descending-greene",
   "metadata": {},
   "outputs": [],
   "source": [
    "reddit = praw.Reddit(client_id='3Im18k1Uojl7N07tokoNzw',\n",
    "                    client_secret='tSW3mfPLXMb7tQX2bm4Go7qqfo59NA',\n",
    "                    user_agent='datamining')"
   ]
  },
  {
   "cell_type": "code",
   "execution_count": 5,
   "id": "indoor-manual",
   "metadata": {},
   "outputs": [
    {
     "name": "stdout",
     "output_type": "stream",
     "text": [
      "802\n"
     ]
    }
   ],
   "source": [
    "headlines = set()\n",
    "for sub in reddit.subreddit('politics').new(limit=None):\n",
    "    headlines.add(sub.title)\n",
    "print(len(headlines))"
   ]
  },
  {
   "cell_type": "code",
   "execution_count": 6,
   "id": "constant-bradford",
   "metadata": {},
   "outputs": [
    {
     "data": {
      "text/html": [
       "<div>\n",
       "<style scoped>\n",
       "    .dataframe tbody tr th:only-of-type {\n",
       "        vertical-align: middle;\n",
       "    }\n",
       "\n",
       "    .dataframe tbody tr th {\n",
       "        vertical-align: top;\n",
       "    }\n",
       "\n",
       "    .dataframe thead th {\n",
       "        text-align: right;\n",
       "    }\n",
       "</style>\n",
       "<table border=\"1\" class=\"dataframe\">\n",
       "  <thead>\n",
       "    <tr style=\"text-align: right;\">\n",
       "      <th></th>\n",
       "      <th>neg</th>\n",
       "      <th>neu</th>\n",
       "      <th>pos</th>\n",
       "      <th>compound</th>\n",
       "      <th>headline</th>\n",
       "    </tr>\n",
       "  </thead>\n",
       "  <tbody>\n",
       "    <tr>\n",
       "      <th>0</th>\n",
       "      <td>0.000</td>\n",
       "      <td>1.000</td>\n",
       "      <td>0.000</td>\n",
       "      <td>0.0000</td>\n",
       "      <td>Rep. Ilhan Omar Questions Biden’s First Airstr...</td>\n",
       "    </tr>\n",
       "    <tr>\n",
       "      <th>1</th>\n",
       "      <td>0.061</td>\n",
       "      <td>0.867</td>\n",
       "      <td>0.071</td>\n",
       "      <td>0.1027</td>\n",
       "      <td>‘I can see the industry disappearing’: fisherm...</td>\n",
       "    </tr>\n",
       "    <tr>\n",
       "      <th>2</th>\n",
       "      <td>0.252</td>\n",
       "      <td>0.748</td>\n",
       "      <td>0.000</td>\n",
       "      <td>-0.4019</td>\n",
       "      <td>Alabama governor blames ‘unvaccinated folks’ a...</td>\n",
       "    </tr>\n",
       "    <tr>\n",
       "      <th>3</th>\n",
       "      <td>0.208</td>\n",
       "      <td>0.792</td>\n",
       "      <td>0.000</td>\n",
       "      <td>-0.2732</td>\n",
       "      <td>U.S. jobless claims rise to 419,000 from a pan...</td>\n",
       "    </tr>\n",
       "    <tr>\n",
       "      <th>4</th>\n",
       "      <td>0.344</td>\n",
       "      <td>0.656</td>\n",
       "      <td>0.000</td>\n",
       "      <td>-0.7430</td>\n",
       "      <td>Alabama governor says ‘it’s time to start blam...</td>\n",
       "    </tr>\n",
       "  </tbody>\n",
       "</table>\n",
       "</div>"
      ],
      "text/plain": [
       "     neg    neu    pos  compound  \\\n",
       "0  0.000  1.000  0.000    0.0000   \n",
       "1  0.061  0.867  0.071    0.1027   \n",
       "2  0.252  0.748  0.000   -0.4019   \n",
       "3  0.208  0.792  0.000   -0.2732   \n",
       "4  0.344  0.656  0.000   -0.7430   \n",
       "\n",
       "                                            headline  \n",
       "0  Rep. Ilhan Omar Questions Biden’s First Airstr...  \n",
       "1  ‘I can see the industry disappearing’: fisherm...  \n",
       "2  Alabama governor blames ‘unvaccinated folks’ a...  \n",
       "3  U.S. jobless claims rise to 419,000 from a pan...  \n",
       "4  Alabama governor says ‘it’s time to start blam...  "
      ]
     },
     "execution_count": 6,
     "metadata": {},
     "output_type": "execute_result"
    }
   ],
   "source": [
    "sia = SIA()\n",
    "results = []\n",
    "for line in headlines:\n",
    "    scores = sia.polarity_scores(line)\n",
    "    scores['headline'] = line\n",
    "    results.append(scores)\n",
    "df = pd.DataFrame.from_records(results)\n",
    "df.head()"
   ]
  },
  {
   "cell_type": "code",
   "execution_count": 7,
   "id": "effective-concert",
   "metadata": {},
   "outputs": [
    {
     "data": {
      "text/html": [
       "<div>\n",
       "<style scoped>\n",
       "    .dataframe tbody tr th:only-of-type {\n",
       "        vertical-align: middle;\n",
       "    }\n",
       "\n",
       "    .dataframe tbody tr th {\n",
       "        vertical-align: top;\n",
       "    }\n",
       "\n",
       "    .dataframe thead th {\n",
       "        text-align: right;\n",
       "    }\n",
       "</style>\n",
       "<table border=\"1\" class=\"dataframe\">\n",
       "  <thead>\n",
       "    <tr style=\"text-align: right;\">\n",
       "      <th></th>\n",
       "      <th>neg</th>\n",
       "      <th>neu</th>\n",
       "      <th>pos</th>\n",
       "      <th>compound</th>\n",
       "      <th>headline</th>\n",
       "      <th>label</th>\n",
       "    </tr>\n",
       "  </thead>\n",
       "  <tbody>\n",
       "    <tr>\n",
       "      <th>0</th>\n",
       "      <td>0.000</td>\n",
       "      <td>1.000</td>\n",
       "      <td>0.000</td>\n",
       "      <td>0.0000</td>\n",
       "      <td>Rep. Ilhan Omar Questions Biden’s First Airstr...</td>\n",
       "      <td>0</td>\n",
       "    </tr>\n",
       "    <tr>\n",
       "      <th>1</th>\n",
       "      <td>0.061</td>\n",
       "      <td>0.867</td>\n",
       "      <td>0.071</td>\n",
       "      <td>0.1027</td>\n",
       "      <td>‘I can see the industry disappearing’: fisherm...</td>\n",
       "      <td>1</td>\n",
       "    </tr>\n",
       "    <tr>\n",
       "      <th>2</th>\n",
       "      <td>0.252</td>\n",
       "      <td>0.748</td>\n",
       "      <td>0.000</td>\n",
       "      <td>-0.4019</td>\n",
       "      <td>Alabama governor blames ‘unvaccinated folks’ a...</td>\n",
       "      <td>-1</td>\n",
       "    </tr>\n",
       "    <tr>\n",
       "      <th>3</th>\n",
       "      <td>0.208</td>\n",
       "      <td>0.792</td>\n",
       "      <td>0.000</td>\n",
       "      <td>-0.2732</td>\n",
       "      <td>U.S. jobless claims rise to 419,000 from a pan...</td>\n",
       "      <td>-1</td>\n",
       "    </tr>\n",
       "    <tr>\n",
       "      <th>4</th>\n",
       "      <td>0.344</td>\n",
       "      <td>0.656</td>\n",
       "      <td>0.000</td>\n",
       "      <td>-0.7430</td>\n",
       "      <td>Alabama governor says ‘it’s time to start blam...</td>\n",
       "      <td>-1</td>\n",
       "    </tr>\n",
       "  </tbody>\n",
       "</table>\n",
       "</div>"
      ],
      "text/plain": [
       "     neg    neu    pos  compound  \\\n",
       "0  0.000  1.000  0.000    0.0000   \n",
       "1  0.061  0.867  0.071    0.1027   \n",
       "2  0.252  0.748  0.000   -0.4019   \n",
       "3  0.208  0.792  0.000   -0.2732   \n",
       "4  0.344  0.656  0.000   -0.7430   \n",
       "\n",
       "                                            headline  label  \n",
       "0  Rep. Ilhan Omar Questions Biden’s First Airstr...      0  \n",
       "1  ‘I can see the industry disappearing’: fisherm...      1  \n",
       "2  Alabama governor blames ‘unvaccinated folks’ a...     -1  \n",
       "3  U.S. jobless claims rise to 419,000 from a pan...     -1  \n",
       "4  Alabama governor says ‘it’s time to start blam...     -1  "
      ]
     },
     "execution_count": 7,
     "metadata": {},
     "output_type": "execute_result"
    }
   ],
   "source": [
    "df['label'] = 0\n",
    "df.loc[df['compound'] > 0.1,'label'] = 1\n",
    "df.loc[df['compound'] < -0.1,'label'] = -1\n",
    "df.head()"
   ]
  },
  {
   "cell_type": "code",
   "execution_count": 8,
   "id": "bottom-exception",
   "metadata": {},
   "outputs": [
    {
     "name": "stdout",
     "output_type": "stream",
     "text": [
      "Encabezados positivos:\n",
      "\n",
      "['‘I can see the industry disappearing’: fishermen sound alarm at plans for offshore wind | '\n",
      " 'Fishermen say their concerns, from safety issues to how offshore wind will alter the ocean '\n",
      " 'environment, aren’t being meaningfully considered by regulators',\n",
      " 'Missouri Legislators Oppose Vaccine Efforts As State Becomes COVID Hotspot | Representative Bill '\n",
      " 'Kidd joked that he didn’t get a vaccine because he’s a Republican. Now he has COVID.',\n",
      " 'Biden will launch into campaigning with visit to Virginia in support of McAuliffe',\n",
      " \"The Kavanaugh news proves it's impossible to have an apolitical Supreme Court\",\n",
      " 'Clean electricity standard should be a no brainer amid extreme climate impacts']\n",
      "\n",
      "Encabezados negativos:\n",
      "\n",
      "['Alabama governor blames ‘unvaccinated folks’ amid rising Covid cases',\n",
      " 'U.S. jobless claims rise to 419,000 from a pandemic low',\n",
      " 'Alabama governor says ‘it’s time to start blaming the unvaccinated folks’ as pandemic worsens',\n",
      " \"Guilty pleas for men who took photos at Pelosi's office on Jan. 6\",\n",
      " 'NYC Democratic mayoral candidate Eric Adams wants to curb gun violence across New York and the '\n",
      " 'U.S.']\n"
     ]
    }
   ],
   "source": [
    "print(\"Encabezados positivos:\\n\")\n",
    "pprint(list(df[df['label'] == 1].headline)[:5],width = 100)\n",
    "\n",
    "print(\"\\nEncabezados negativos:\\n\")\n",
    "pprint(list(df[df['label'] == -1].headline)[:5],width = 100)"
   ]
  },
  {
   "cell_type": "code",
   "execution_count": 9,
   "id": "individual-finnish",
   "metadata": {},
   "outputs": [
    {
     "name": "stdout",
     "output_type": "stream",
     "text": [
      "-1    334\n",
      " 0    261\n",
      " 1    207\n",
      "Name: label, dtype: int64\n"
     ]
    }
   ],
   "source": [
    "print(df.label.value_counts())\n",
    "#print(df.label.value_counts(normalize=True) * 100)"
   ]
  },
  {
   "cell_type": "code",
   "execution_count": 10,
   "id": "three-painting",
   "metadata": {},
   "outputs": [
    {
     "data": {
      "image/png": "[encoded data removed]",
      "text/plain": [
       "<Figure size 576x576 with 1 Axes>"
      ]
     },
     "metadata": {},
     "output_type": "display_data"
    }
   ],
   "source": [
    "fig,ax = plt.subplots(figsize = (8,8))\n",
    "#counts = df.label.value_counts(normalize=True) * 100\n",
    "counts = df.label.value_counts()\n",
    "sns.barplot(x=counts.index,y=counts,ax=ax)\n",
    "ax.set_xticklabels(['negativo','neutral','positivo'])\n",
    "ax.set_ylabel('cantidad')\n",
    "plt.show()"
   ]
  },
  {
   "cell_type": "code",
   "execution_count": null,
   "id": "usual-problem",
   "metadata": {},
   "outputs": [],
   "source": []
  }
 ],
 "metadata": {
  "kernelspec": {
   "display_name": "Python 3",
   "language": "python",
   "name": "python3"
  },
  "language_info": {
   "codemirror_mode": {
    "name": "ipython",
    "version": 3
   },
   "file_extension": ".py",
   "mimetype": "text/x-python",
   "name": "python",
   "nbconvert_exporter": "python",
   "pygments_lexer": "ipython3",
   "version": "3.9.4"
  }
 },
 "nbformat": 4,
 "nbformat_minor": 5
}
